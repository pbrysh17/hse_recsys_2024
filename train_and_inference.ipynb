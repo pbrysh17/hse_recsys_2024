{
  "metadata": {
    "kernelspec": {
      "display_name": "Python 3",
      "name": "python3"
    },
    "language_info": {
      "name": "python",
      "version": "3.10.14",
      "mimetype": "text/x-python",
      "codemirror_mode": {
        "name": "ipython",
        "version": 3
      },
      "pygments_lexer": "ipython3",
      "nbconvert_exporter": "python",
      "file_extension": ".py"
    },
    "kaggle": {
      "accelerator": "none",
      "dataSources": [
        {
          "sourceId": 9724044,
          "sourceType": "datasetVersion",
          "datasetId": 5949856
        },
        {
          "sourceId": 9724188,
          "sourceType": "datasetVersion",
          "datasetId": 5949975
        }
      ],
      "dockerImageVersionId": 30786,
      "isInternetEnabled": false,
      "language": "python",
      "sourceType": "notebook",
      "isGpuEnabled": false
    },
    "colab": {
      "provenance": [],
      "gpuType": "T4"
    },
    "accelerator": "GPU"
  },
  "nbformat_minor": 0,
  "nbformat": 4,
  "cells": [
    {
      "cell_type": "code",
      "source": [
        "import pandas as pd"
      ],
      "metadata": {
        "execution": {
          "iopub.status.busy": "2024-10-26T04:10:08.672861Z",
          "iopub.execute_input": "2024-10-26T04:10:08.673257Z",
          "iopub.status.idle": "2024-10-26T04:10:09.780984Z",
          "shell.execute_reply.started": "2024-10-26T04:10:08.673211Z",
          "shell.execute_reply": "2024-10-26T04:10:09.779987Z"
        },
        "trusted": true,
        "id": "vqMD1WW5DhNd"
      },
      "execution_count": 1,
      "outputs": []
    },
    {
      "cell_type": "code",
      "source": [
        "data = pd.read_csv(r'/content/total_features.csv')"
      ],
      "metadata": {
        "execution": {
          "iopub.status.busy": "2024-10-26T04:10:09.783228Z",
          "iopub.execute_input": "2024-10-26T04:10:09.783814Z",
          "iopub.status.idle": "2024-10-26T04:10:29.519374Z",
          "shell.execute_reply.started": "2024-10-26T04:10:09.783767Z",
          "shell.execute_reply": "2024-10-26T04:10:29.518133Z"
        },
        "trusted": true,
        "id": "au1rvJKdDhNf"
      },
      "execution_count": 2,
      "outputs": []
    },
    {
      "cell_type": "code",
      "source": [
        "val = pd.read_csv(r'/content/val_last.csv')"
      ],
      "metadata": {
        "execution": {
          "iopub.status.busy": "2024-10-26T04:10:29.520759Z",
          "iopub.execute_input": "2024-10-26T04:10:29.521231Z",
          "iopub.status.idle": "2024-10-26T04:10:40.997388Z",
          "shell.execute_reply.started": "2024-10-26T04:10:29.521183Z",
          "shell.execute_reply": "2024-10-26T04:10:40.996289Z"
        },
        "trusted": true,
        "id": "kBkVcOlxDhNg"
      },
      "execution_count": 3,
      "outputs": []
    },
    {
      "cell_type": "code",
      "source": [
        "def remove_random_share(df, share):\n",
        "    \"\"\"\n",
        "    Удаляет случайную долю строк из DataFrame, где y == 0.25.\n",
        "\n",
        "    :param df: DataFrame, из которого нужно удалить строки\n",
        "    :param share: Доля строк для удаления (например, 0.1 для 10%)\n",
        "    :return: Очищенный DataFrame\n",
        "    \"\"\"\n",
        "    # Фильтруем строки, где y == 0.25\n",
        "    rows_to_remove = df.query('y ==0.25 and recommended_algo1 ==0 and recommended_algo2 ==0')\n",
        "\n",
        "    # Определяем количество строк для удаления\n",
        "    num_rows_to_remove = int(len(rows_to_remove) * share)\n",
        "\n",
        "    # Проверяем, что количество строк для удаления не превышает доступное количество\n",
        "    if num_rows_to_remove > 0:\n",
        "        # Случайным образом выбираем строки для удаления\n",
        "        rows_to_remove_indices = rows_to_remove.sample(n=num_rows_to_remove, random_state=42).index\n",
        "\n",
        "        # Удаляем выбранные строки из оригинального DataFrame\n",
        "        df_cleaned = df.drop(index=rows_to_remove_indices)\n",
        "    else:\n",
        "        # Если нет строк для удаления, возвращаем оригинальный DataFrame\n",
        "        df_cleaned = df.copy()\n",
        "\n",
        "    return df_cleaned"
      ],
      "metadata": {
        "execution": {
          "iopub.status.busy": "2024-10-26T03:35:42.873831Z",
          "iopub.status.idle": "2024-10-26T03:35:42.874234Z",
          "shell.execute_reply.started": "2024-10-26T03:35:42.874028Z",
          "shell.execute_reply": "2024-10-26T03:35:42.874055Z"
        },
        "trusted": true,
        "id": "VLeQ09QEDhNg"
      },
      "execution_count": 4,
      "outputs": []
    },
    {
      "cell_type": "code",
      "source": [
        "# val = remove_random_share(val, 0.6)\n",
        "val = val[val.y != 0.25]"
      ],
      "metadata": {
        "execution": {
          "iopub.status.busy": "2024-10-26T04:10:45.812770Z",
          "iopub.execute_input": "2024-10-26T04:10:45.813753Z",
          "iopub.status.idle": "2024-10-26T04:10:45.861285Z",
          "shell.execute_reply.started": "2024-10-26T04:10:45.813707Z",
          "shell.execute_reply": "2024-10-26T04:10:45.860353Z"
        },
        "trusted": true,
        "id": "pVP4nRmyDhNi"
      },
      "execution_count": 5,
      "outputs": []
    },
    {
      "cell_type": "code",
      "source": [
        "client_features = data.groupby(by = 'user_id')[[ 'user_rating_count', 'user_genre0_share', 'user_genre1_share',\n",
        "    'user_genre2_share', 'user_genre3_share', 'user_genre4_share',\n",
        "    'user_genre5_share', 'user_genre6_share', 'user_genre7_share',\n",
        "    'user_genre8_share', 'user_genre9_share', 'user_genre10_share',\n",
        "    'user_genre11_share', 'user_genre12_share', 'user_genre13_share',\n",
        "    'user_genre14_share', 'user_genre15_share', 'user_genre16_share',\n",
        "    'user_genre17_share', 'user_timestamp_q0', 'user_timestamp_q10',\n",
        "    'user_timestamp_q25', 'user_timestamp_q33', 'user_timestamp_q50',\n",
        "    'user_timestamp_q67', 'user_timestamp_q75', 'user_timestamp_q90',\n",
        "    'user_timestamp_q100', 'user_timestamp_range', 'user_timestamp_iqr',\n",
        "     'age']].mean().reset_index()"
      ],
      "metadata": {
        "execution": {
          "iopub.status.busy": "2024-10-26T04:10:48.158769Z",
          "iopub.execute_input": "2024-10-26T04:10:48.159665Z",
          "iopub.status.idle": "2024-10-26T04:10:48.386592Z",
          "shell.execute_reply.started": "2024-10-26T04:10:48.159617Z",
          "shell.execute_reply": "2024-10-26T04:10:48.385459Z"
        },
        "trusted": true,
        "id": "EZ6noUzFDhNj"
      },
      "execution_count": 6,
      "outputs": []
    },
    {
      "cell_type": "code",
      "source": [
        "item_features = data.groupby(by = 'item_id')[['female_ratio', 'male_ratio',\n",
        "    'young_ratio', 'adult_ratio', 'senior_ratio',\n",
        "    'female_ratio_genre', 'male_ratio_genre', 'young_ratio_genre',\n",
        "    'adult_ratio_genre', 'senior_ratio_genre', 'item_rating_count',\n",
        "    'avg_rating_time_x', 'rating_time_range_x',\n",
        "    'genre_0', 'genre_1', 'genre_2', 'genre_3', 'genre_4', 'genre_5',\n",
        "    'genre_6', 'genre_7', 'genre_8', 'genre_9', 'genre_10', 'genre_11',\n",
        "    'genre_12', 'genre_13', 'genre_14', 'genre_15', 'genre_16', 'genre_17']].mean().reset_index()"
      ],
      "metadata": {
        "execution": {
          "iopub.status.busy": "2024-10-26T04:10:48.388264Z",
          "iopub.execute_input": "2024-10-26T04:10:48.388590Z",
          "iopub.status.idle": "2024-10-26T04:10:48.616718Z",
          "shell.execute_reply.started": "2024-10-26T04:10:48.388556Z",
          "shell.execute_reply": "2024-10-26T04:10:48.615629Z"
        },
        "trusted": true,
        "id": "9teln_30DhNj"
      },
      "execution_count": 7,
      "outputs": []
    },
    {
      "cell_type": "code",
      "source": [
        "import numpy as np\n",
        "parts = np.array_split(val, 5)\n",
        "merged_results = []\n",
        "\n",
        "# Цикл для объединения каждой части\n",
        "for part in parts:\n",
        "    # Выполняем left join с client_features по user_id\n",
        "    val_with_client_features = part.merge(client_features, on='user_id', how='left')\n",
        "\n",
        "    # Выполняем left join с item_features по item_id\n",
        "    val_final_merged = val_with_client_features.merge(item_features, on='item_id', how='left')\n",
        "\n",
        "    # Добавляем результат в список\n",
        "    merged_results.append(val_final_merged)\n",
        "    del val_with_client_features\n",
        "    del val_final_merged\n"
      ],
      "metadata": {
        "execution": {
          "iopub.status.busy": "2024-10-26T04:10:57.087196Z",
          "iopub.execute_input": "2024-10-26T04:10:57.087612Z",
          "iopub.status.idle": "2024-10-26T04:10:57.255979Z",
          "shell.execute_reply.started": "2024-10-26T04:10:57.087572Z",
          "shell.execute_reply": "2024-10-26T04:10:57.254969Z"
        },
        "trusted": true,
        "colab": {
          "base_uri": "https://localhost:8080/"
        },
        "id": "4C25I9h1DhNk",
        "outputId": "8d13d867-1552-4c25-9768-7b2a11d4ddb2"
      },
      "execution_count": 8,
      "outputs": [
        {
          "output_type": "stream",
          "name": "stderr",
          "text": [
            "/usr/local/lib/python3.10/dist-packages/numpy/core/fromnumeric.py:59: FutureWarning: 'DataFrame.swapaxes' is deprecated and will be removed in a future version. Please use 'DataFrame.transpose' instead.\n",
            "  return bound(*args, **kwds)\n"
          ]
        }
      ]
    },
    {
      "cell_type": "code",
      "source": [
        "del client_features\n",
        "del item_features\n",
        "del parts\n",
        "del part"
      ],
      "metadata": {
        "execution": {
          "iopub.status.busy": "2024-10-26T04:10:57.456487Z",
          "iopub.execute_input": "2024-10-26T04:10:57.456892Z",
          "iopub.status.idle": "2024-10-26T04:10:57.461879Z",
          "shell.execute_reply.started": "2024-10-26T04:10:57.456854Z",
          "shell.execute_reply": "2024-10-26T04:10:57.460514Z"
        },
        "trusted": true,
        "id": "NFQ40QCCDhNl"
      },
      "execution_count": 9,
      "outputs": []
    },
    {
      "cell_type": "code",
      "source": [
        "val = pd.concat(merged_results)"
      ],
      "metadata": {
        "execution": {
          "iopub.status.busy": "2024-10-26T04:10:59.424124Z",
          "iopub.execute_input": "2024-10-26T04:10:59.424540Z",
          "iopub.status.idle": "2024-10-26T04:10:59.462652Z",
          "shell.execute_reply.started": "2024-10-26T04:10:59.424499Z",
          "shell.execute_reply": "2024-10-26T04:10:59.461774Z"
        },
        "trusted": true,
        "id": "8e2jYeAiDhNm"
      },
      "execution_count": 10,
      "outputs": []
    },
    {
      "cell_type": "code",
      "source": [
        "del merged_results"
      ],
      "metadata": {
        "execution": {
          "iopub.status.busy": "2024-10-26T04:11:02.477014Z",
          "iopub.execute_input": "2024-10-26T04:11:02.477438Z",
          "iopub.status.idle": "2024-10-26T04:11:02.483148Z",
          "shell.execute_reply.started": "2024-10-26T04:11:02.477396Z",
          "shell.execute_reply": "2024-10-26T04:11:02.482043Z"
        },
        "trusted": true,
        "id": "0mvXB2nCDhNn"
      },
      "execution_count": 11,
      "outputs": []
    },
    {
      "cell_type": "code",
      "source": [
        "# val = pd.read_csv('/kaggle/input/val-last/val_last.csv')"
      ],
      "metadata": {
        "execution": {
          "iopub.status.busy": "2024-10-26T04:06:41.808984Z",
          "iopub.execute_input": "2024-10-26T04:06:41.809435Z",
          "iopub.status.idle": "2024-10-26T04:06:41.814369Z",
          "shell.execute_reply.started": "2024-10-26T04:06:41.809388Z",
          "shell.execute_reply": "2024-10-26T04:06:41.812900Z"
        },
        "trusted": true,
        "id": "_gPbtY9kDhNo"
      },
      "execution_count": 12,
      "outputs": []
    },
    {
      "cell_type": "code",
      "source": [
        "len(val.columns)"
      ],
      "metadata": {
        "execution": {
          "iopub.status.busy": "2024-10-26T04:06:41.816328Z",
          "iopub.execute_input": "2024-10-26T04:06:41.816856Z",
          "iopub.status.idle": "2024-10-26T04:06:41.832255Z",
          "shell.execute_reply.started": "2024-10-26T04:06:41.816800Z",
          "shell.execute_reply": "2024-10-26T04:06:41.830875Z"
        },
        "trusted": true,
        "colab": {
          "base_uri": "https://localhost:8080/"
        },
        "id": "rIy_Bp4TDhNo",
        "outputId": "3f0e9937-7e84-4cd9-c598-c9b941194336"
      },
      "execution_count": 13,
      "outputs": [
        {
          "output_type": "execute_result",
          "data": {
            "text/plain": [
              "67"
            ]
          },
          "metadata": {},
          "execution_count": 13
        }
      ]
    },
    {
      "cell_type": "code",
      "source": [
        "from sklearn.model_selection import train_test_split, GridSearchCV\n",
        "! pip install catboost\n",
        "from catboost import CatBoostRegressor"
      ],
      "metadata": {
        "execution": {
          "iopub.status.busy": "2024-10-26T04:11:26.660710Z",
          "iopub.execute_input": "2024-10-26T04:11:26.661368Z",
          "iopub.status.idle": "2024-10-26T04:11:26.666703Z",
          "shell.execute_reply.started": "2024-10-26T04:11:26.661321Z",
          "shell.execute_reply": "2024-10-26T04:11:26.665493Z"
        },
        "trusted": true,
        "colab": {
          "base_uri": "https://localhost:8080/"
        },
        "id": "1PdM4gDFDhNo",
        "outputId": "92b6bb36-3bba-4fa7-8fa8-fd055a967673"
      },
      "execution_count": 14,
      "outputs": [
        {
          "output_type": "stream",
          "name": "stdout",
          "text": [
            "Requirement already satisfied: catboost in /usr/local/lib/python3.10/dist-packages (1.2.7)\n",
            "Requirement already satisfied: graphviz in /usr/local/lib/python3.10/dist-packages (from catboost) (0.20.3)\n",
            "Requirement already satisfied: matplotlib in /usr/local/lib/python3.10/dist-packages (from catboost) (3.7.1)\n",
            "Requirement already satisfied: numpy<2.0,>=1.16.0 in /usr/local/lib/python3.10/dist-packages (from catboost) (1.26.4)\n",
            "Requirement already satisfied: pandas>=0.24 in /usr/local/lib/python3.10/dist-packages (from catboost) (2.2.2)\n",
            "Requirement already satisfied: scipy in /usr/local/lib/python3.10/dist-packages (from catboost) (1.13.1)\n",
            "Requirement already satisfied: plotly in /usr/local/lib/python3.10/dist-packages (from catboost) (5.24.1)\n",
            "Requirement already satisfied: six in /usr/local/lib/python3.10/dist-packages (from catboost) (1.16.0)\n",
            "Requirement already satisfied: python-dateutil>=2.8.2 in /usr/local/lib/python3.10/dist-packages (from pandas>=0.24->catboost) (2.8.2)\n",
            "Requirement already satisfied: pytz>=2020.1 in /usr/local/lib/python3.10/dist-packages (from pandas>=0.24->catboost) (2024.2)\n",
            "Requirement already satisfied: tzdata>=2022.7 in /usr/local/lib/python3.10/dist-packages (from pandas>=0.24->catboost) (2024.2)\n",
            "Requirement already satisfied: contourpy>=1.0.1 in /usr/local/lib/python3.10/dist-packages (from matplotlib->catboost) (1.3.0)\n",
            "Requirement already satisfied: cycler>=0.10 in /usr/local/lib/python3.10/dist-packages (from matplotlib->catboost) (0.12.1)\n",
            "Requirement already satisfied: fonttools>=4.22.0 in /usr/local/lib/python3.10/dist-packages (from matplotlib->catboost) (4.54.1)\n",
            "Requirement already satisfied: kiwisolver>=1.0.1 in /usr/local/lib/python3.10/dist-packages (from matplotlib->catboost) (1.4.7)\n",
            "Requirement already satisfied: packaging>=20.0 in /usr/local/lib/python3.10/dist-packages (from matplotlib->catboost) (24.1)\n",
            "Requirement already satisfied: pillow>=6.2.0 in /usr/local/lib/python3.10/dist-packages (from matplotlib->catboost) (10.4.0)\n",
            "Requirement already satisfied: pyparsing>=2.3.1 in /usr/local/lib/python3.10/dist-packages (from matplotlib->catboost) (3.2.0)\n",
            "Requirement already satisfied: tenacity>=6.2.0 in /usr/local/lib/python3.10/dist-packages (from plotly->catboost) (9.0.0)\n"
          ]
        }
      ]
    },
    {
      "cell_type": "code",
      "source": [
        "X = val.drop(columns=['y'])  # Все столбцы, кроме 'y'\n",
        "y = val['y']  # Целевая переменная"
      ],
      "metadata": {
        "execution": {
          "iopub.status.busy": "2024-10-26T04:11:41.016323Z",
          "iopub.execute_input": "2024-10-26T04:11:41.017073Z",
          "iopub.status.idle": "2024-10-26T04:11:41.052062Z",
          "shell.execute_reply.started": "2024-10-26T04:11:41.017027Z",
          "shell.execute_reply": "2024-10-26T04:11:41.050964Z"
        },
        "trusted": true,
        "id": "qqrtH1IHDhNo"
      },
      "execution_count": 15,
      "outputs": []
    },
    {
      "cell_type": "code",
      "source": [
        "y.dtypes"
      ],
      "metadata": {
        "colab": {
          "base_uri": "https://localhost:8080/"
        },
        "id": "gIGefsjrST7U",
        "outputId": "d6cf33dd-1b11-4f8a-e14e-0e26ea2aafb4"
      },
      "execution_count": 16,
      "outputs": [
        {
          "output_type": "execute_result",
          "data": {
            "text/plain": [
              "dtype('float64')"
            ]
          },
          "metadata": {},
          "execution_count": 16
        }
      ]
    },
    {
      "cell_type": "code",
      "source": [
        "y.replace(0.5, 0.7, inplace=True)"
      ],
      "metadata": {
        "id": "HDUr-HsESvI0"
      },
      "execution_count": 18,
      "outputs": []
    },
    {
      "cell_type": "code",
      "source": [
        "del val"
      ],
      "metadata": {
        "execution": {
          "iopub.status.busy": "2024-10-26T04:11:41.957310Z",
          "iopub.execute_input": "2024-10-26T04:11:41.958012Z",
          "iopub.status.idle": "2024-10-26T04:11:41.962618Z",
          "shell.execute_reply.started": "2024-10-26T04:11:41.957967Z",
          "shell.execute_reply": "2024-10-26T04:11:41.961485Z"
        },
        "trusted": true,
        "id": "b4G8ip3hDhNp"
      },
      "execution_count": 19,
      "outputs": []
    },
    {
      "cell_type": "code",
      "source": [
        "\n",
        "# Разделяем данные на обучающую и тестовую выборки со стратификацией\n",
        "X_train, X_test, y_train, y_test = train_test_split(X, y, test_size=0.3, stratify=y, random_state=42)"
      ],
      "metadata": {
        "execution": {
          "iopub.status.busy": "2024-10-26T04:11:46.055324Z",
          "iopub.execute_input": "2024-10-26T04:11:46.056316Z",
          "iopub.status.idle": "2024-10-26T04:11:46.286307Z",
          "shell.execute_reply.started": "2024-10-26T04:11:46.056273Z",
          "shell.execute_reply": "2024-10-26T04:11:46.285139Z"
        },
        "trusted": true,
        "id": "5AxYOZ2NDhNq"
      },
      "execution_count": 17,
      "outputs": []
    },
    {
      "cell_type": "code",
      "source": [
        "# del X\n",
        "# del y"
      ],
      "metadata": {
        "execution": {
          "iopub.status.busy": "2024-10-26T04:11:46.592203Z",
          "iopub.execute_input": "2024-10-26T04:11:46.592620Z",
          "iopub.status.idle": "2024-10-26T04:11:46.597294Z",
          "shell.execute_reply.started": "2024-10-26T04:11:46.592578Z",
          "shell.execute_reply": "2024-10-26T04:11:46.596202Z"
        },
        "trusted": true,
        "id": "im68j8N6DhNq"
      },
      "execution_count": 21,
      "outputs": []
    },
    {
      "cell_type": "code",
      "source": [
        "\n",
        "# Разделяем данные на обучающую и тестовую выборки со стратификацией\n",
        "# X_train, X_test, y_train, y_test = train_test_split(X, y, test_size=0.3, stratify=y, random_state=42)\n",
        "\n",
        "# Определяем модель с использованием GPU\n",
        "model = CatBoostRegressor(verbose=1000, ignored_features = ['user_id', 'item_id'], task_type='GPU')  # Устанавливаем verbose=0, чтобы не выводить информацию во время обучения\n",
        "\n",
        "# Определяем гиперпараметры для поиска\n",
        "param_grid = {\n",
        "    'iterations': [1500, 2000],\n",
        "    'learning_rate': [0.1],\n",
        "    'depth': [12, 14, 16]\n",
        "}\n",
        "\n",
        "# Создаем объект GridSearchCV\n",
        "grid_search = GridSearchCV(estimator=model,\n",
        "                           param_grid=param_grid,\n",
        "                           scoring='neg_mean_squared_error',  # Используем MSE в качестве метрики\n",
        "                           cv=3,  # Кросс-валидация на 3 фолда\n",
        "                           verbose=1000)  # Используем все доступные ядра\n",
        "\n",
        "# Обучение модели с поиском по сетке\n",
        "grid_search.fit(X_train, y_train)\n",
        "\n",
        "# Получаем лучшие параметры и модель\n",
        "best_params = grid_search.best_params_\n",
        "best_model = grid_search.best_estimator_\n",
        "\n",
        "print(\"Лучшие параметры:\", best_params)\n",
        "\n",
        "# Оценка модели на тестовой выборке\n",
        "test_score = best_model.score(X_test, y_test)\n",
        "print(\"Тестовый балл:\", test_score)"
      ],
      "metadata": {
        "execution": {
          "iopub.status.busy": "2024-10-26T04:15:25.617710Z",
          "iopub.execute_input": "2024-10-26T04:15:25.618580Z"
        },
        "trusted": true,
        "colab": {
          "base_uri": "https://localhost:8080/"
        },
        "id": "e9d8owxiDhNr",
        "outputId": "8def0a6b-80b7-4de1-9e1d-be8f4480574a"
      },
      "execution_count": null,
      "outputs": [
        {
          "output_type": "stream",
          "name": "stdout",
          "text": [
            "Fitting 3 folds for each of 6 candidates, totalling 18 fits\n",
            "[CV 1/3; 1/6] START depth=12, iterations=1500, learning_rate=0.1................\n",
            "0:\tlearn: 0.3888810\ttotal: 118ms\tremaining: 2m 56s\n",
            "1000:\tlearn: 0.1377340\ttotal: 40.2s\tremaining: 20s\n",
            "1499:\tlearn: 0.0976969\ttotal: 1m 1s\tremaining: 0us\n",
            "[CV 1/3; 1/6] END depth=12, iterations=1500, learning_rate=0.1;, score=-0.104 total time= 1.1min\n",
            "[CV 2/3; 1/6] START depth=12, iterations=1500, learning_rate=0.1................\n",
            "0:\tlearn: 0.3893201\ttotal: 56.1ms\tremaining: 1m 24s\n",
            "1000:\tlearn: 0.1373357\ttotal: 36.7s\tremaining: 18.3s\n",
            "1499:\tlearn: 0.0971020\ttotal: 55.2s\tremaining: 0us\n",
            "[CV 2/3; 1/6] END depth=12, iterations=1500, learning_rate=0.1;, score=-0.103 total time=  57.7s\n",
            "[CV 3/3; 1/6] START depth=12, iterations=1500, learning_rate=0.1................\n",
            "0:\tlearn: 0.3892490\ttotal: 25.9ms\tremaining: 38.8s\n",
            "1000:\tlearn: 0.1357764\ttotal: 38.5s\tremaining: 19.2s\n",
            "1499:\tlearn: 0.0959183\ttotal: 58.2s\tremaining: 0us\n",
            "[CV 3/3; 1/6] END depth=12, iterations=1500, learning_rate=0.1;, score=-0.105 total time= 1.0min\n",
            "[CV 1/3; 2/6] START depth=12, iterations=2000, learning_rate=0.1................\n",
            "0:\tlearn: 0.3888810\ttotal: 53.1ms\tremaining: 1m 46s\n",
            "1000:\tlearn: 0.1377340\ttotal: 40s\tremaining: 39.9s\n",
            "1999:\tlearn: 0.0713618\ttotal: 1m 16s\tremaining: 0us\n",
            "[CV 1/3; 2/6] END depth=12, iterations=2000, learning_rate=0.1;, score=-0.105 total time= 1.3min\n",
            "[CV 2/3; 2/6] START depth=12, iterations=2000, learning_rate=0.1................\n",
            "0:\tlearn: 0.3893201\ttotal: 104ms\tremaining: 3m 28s\n",
            "1000:\tlearn: 0.1373357\ttotal: 40s\tremaining: 39.9s\n",
            "1999:\tlearn: 0.0710116\ttotal: 1m 16s\tremaining: 0us\n",
            "[CV 2/3; 2/6] END depth=12, iterations=2000, learning_rate=0.1;, score=-0.104 total time= 1.3min\n",
            "[CV 3/3; 2/6] START depth=12, iterations=2000, learning_rate=0.1................\n",
            "0:\tlearn: 0.3892490\ttotal: 63.2ms\tremaining: 2m 6s\n",
            "1000:\tlearn: 0.1357764\ttotal: 44s\tremaining: 43.9s\n",
            "1999:\tlearn: 0.0705128\ttotal: 1m 20s\tremaining: 0us\n",
            "[CV 3/3; 2/6] END depth=12, iterations=2000, learning_rate=0.1;, score=-0.106 total time= 1.4min\n",
            "[CV 1/3; 3/6] START depth=14, iterations=1500, learning_rate=0.1................\n",
            "0:\tlearn: 0.3885522\ttotal: 161ms\tremaining: 4m\n"
          ]
        }
      ]
    },
    {
      "cell_type": "code",
      "source": [
        "model = best_model"
      ],
      "metadata": {
        "id": "UWuJogmIJvwD"
      },
      "execution_count": 56,
      "outputs": []
    },
    {
      "cell_type": "code",
      "source": [
        "X = pd.concat([X_train, X_test])"
      ],
      "metadata": {
        "id": "tE9Y7vSUPC8Z"
      },
      "execution_count": 57,
      "outputs": []
    },
    {
      "cell_type": "code",
      "source": [
        "y = pd.concat([y_train, y_test])"
      ],
      "metadata": {
        "id": "R6wTrMxnPLtU"
      },
      "execution_count": 58,
      "outputs": []
    },
    {
      "cell_type": "code",
      "source": [
        "model.fit(X, y)"
      ],
      "metadata": {
        "colab": {
          "base_uri": "https://localhost:8080/"
        },
        "id": "sMFOAXZDPP3L",
        "outputId": "68badd52-5acf-4abd-f920-c3b401f218b9"
      },
      "execution_count": 59,
      "outputs": [
        {
          "output_type": "stream",
          "name": "stdout",
          "text": [
            "0:\tlearn: 0.3890697\ttotal: 113ms\tremaining: 2m 49s\n",
            "1000:\tlearn: 0.1941061\ttotal: 47.1s\tremaining: 23.5s\n",
            "1499:\tlearn: 0.1592250\ttotal: 1m 7s\tremaining: 0us\n"
          ]
        },
        {
          "output_type": "execute_result",
          "data": {
            "text/plain": [
              "<catboost.core.CatBoostRegressor at 0x7faf52925b10>"
            ]
          },
          "metadata": {},
          "execution_count": 59
        }
      ]
    },
    {
      "cell_type": "code",
      "source": [
        "import joblib\n",
        "joblib.dump(model, r'/content/model.joblib')"
      ],
      "metadata": {
        "colab": {
          "base_uri": "https://localhost:8080/"
        },
        "id": "98XgqrQFJzF5",
        "outputId": "c6cfd23f-e977-4a39-a587-b6d7de99ca89"
      },
      "execution_count": 43,
      "outputs": [
        {
          "output_type": "execute_result",
          "data": {
            "text/plain": [
              "['/content/model.joblib']"
            ]
          },
          "metadata": {},
          "execution_count": 43
        }
      ]
    },
    {
      "cell_type": "code",
      "source": [
        "import pandas as pd\n",
        "data = pd.read_csv(r'/content/total_features.csv')\n",
        "client_features = data.groupby(by = 'user_id')[[ 'user_rating_count', 'user_genre0_share', 'user_genre1_share',\n",
        "    'user_genre2_share', 'user_genre3_share', 'user_genre4_share',\n",
        "    'user_genre5_share', 'user_genre6_share', 'user_genre7_share',\n",
        "    'user_genre8_share', 'user_genre9_share', 'user_genre10_share',\n",
        "    'user_genre11_share', 'user_genre12_share', 'user_genre13_share',\n",
        "    'user_genre14_share', 'user_genre15_share', 'user_genre16_share',\n",
        "    'user_genre17_share', 'user_timestamp_q0', 'user_timestamp_q10',\n",
        "    'user_timestamp_q25', 'user_timestamp_q33', 'user_timestamp_q50',\n",
        "    'user_timestamp_q67', 'user_timestamp_q75', 'user_timestamp_q90',\n",
        "    'user_timestamp_q100', 'user_timestamp_range', 'user_timestamp_iqr',\n",
        "     'age']].mean().reset_index()\n",
        "\n",
        "item_features = data.groupby(by = 'item_id')[['female_ratio', 'male_ratio',\n",
        "    'young_ratio', 'adult_ratio', 'senior_ratio',\n",
        "    'female_ratio_genre', 'male_ratio_genre', 'young_ratio_genre',\n",
        "    'adult_ratio_genre', 'senior_ratio_genre', 'item_rating_count',\n",
        "    'avg_rating_time_x', 'rating_time_range_x',\n",
        "    'genre_0', 'genre_1', 'genre_2', 'genre_3', 'genre_4', 'genre_5',\n",
        "    'genre_6', 'genre_7', 'genre_8', 'genre_9', 'genre_10', 'genre_11',\n",
        "    'genre_12', 'genre_13', 'genre_14', 'genre_15', 'genre_16', 'genre_17']].mean().reset_index()"
      ],
      "metadata": {
        "id": "anz7Lb_vHY3K"
      },
      "execution_count": 60,
      "outputs": []
    },
    {
      "cell_type": "code",
      "source": [
        "val_to_inference = pd.read_csv(r'/content/val_to_inference.csv')"
      ],
      "metadata": {
        "id": "O8OaH2-IKQZo"
      },
      "execution_count": 61,
      "outputs": []
    },
    {
      "cell_type": "code",
      "source": [
        "val_to_inference.columns"
      ],
      "metadata": {
        "colab": {
          "base_uri": "https://localhost:8080/"
        },
        "id": "7SruUzgeLIRi",
        "outputId": "93c7d7e6-a1c6-465e-8903-9e656e390bd4"
      },
      "execution_count": 62,
      "outputs": [
        {
          "output_type": "execute_result",
          "data": {
            "text/plain": [
              "Index(['user_id', 'item_id', 'recommended_algo1', 'recommended_algo2'], dtype='object')"
            ]
          },
          "metadata": {},
          "execution_count": 62
        }
      ]
    },
    {
      "cell_type": "code",
      "source": [
        "val_to_inference = val_to_inference.query('recommended_algo1 == 1 or recommended_algo2 == 1')"
      ],
      "metadata": {
        "id": "OlZBH2qSK--C"
      },
      "execution_count": 63,
      "outputs": []
    },
    {
      "cell_type": "code",
      "source": [
        "len(val_to_inference.user_id.unique())"
      ],
      "metadata": {
        "colab": {
          "base_uri": "https://localhost:8080/"
        },
        "id": "eXPVimRjLTsx",
        "outputId": "a5cebf36-7198-494f-ea01-e3b90f9b8791"
      },
      "execution_count": 64,
      "outputs": [
        {
          "output_type": "execute_result",
          "data": {
            "text/plain": [
              "6040"
            ]
          },
          "metadata": {},
          "execution_count": 64
        }
      ]
    },
    {
      "cell_type": "code",
      "source": [
        "import numpy as np\n",
        "parts = np.array_split(val_to_inference, 5)\n",
        "merged_results = []\n",
        "\n",
        "# Цикл для объединения каждой части\n",
        "for part in parts:\n",
        "    # Выполняем left join с client_features по user_id\n",
        "    val_with_client_features = part.merge(client_features, on='user_id', how='left')\n",
        "\n",
        "    # Выполняем left join с item_features по item_id\n",
        "    val_final_merged = val_with_client_features.merge(item_features, on='item_id', how='left')\n",
        "\n",
        "    # Добавляем результат в список\n",
        "    merged_results.append(val_final_merged)\n",
        "    del val_with_client_features\n",
        "    del val_final_merged"
      ],
      "metadata": {
        "colab": {
          "base_uri": "https://localhost:8080/"
        },
        "id": "2_GeX7psHS_9",
        "outputId": "55743e5c-88b2-4ac8-e180-f1b51f844155"
      },
      "execution_count": 65,
      "outputs": [
        {
          "output_type": "stream",
          "name": "stderr",
          "text": [
            "/usr/local/lib/python3.10/dist-packages/numpy/core/fromnumeric.py:59: FutureWarning: 'DataFrame.swapaxes' is deprecated and will be removed in a future version. Please use 'DataFrame.transpose' instead.\n",
            "  return bound(*args, **kwds)\n"
          ]
        }
      ]
    },
    {
      "cell_type": "code",
      "source": [
        "val_to_inference = pd.concat(merged_results)"
      ],
      "metadata": {
        "id": "ZAzTh8G7H-SZ"
      },
      "execution_count": 66,
      "outputs": []
    },
    {
      "cell_type": "code",
      "source": [
        "import joblib\n",
        "model = joblib.load(r'/content/model.joblib')"
      ],
      "metadata": {
        "id": "5AaPJBBZKocL"
      },
      "execution_count": 51,
      "outputs": []
    },
    {
      "cell_type": "code",
      "source": [
        "val_to_inference['boosting_forecast'] = model.predict(val_to_inference)"
      ],
      "metadata": {
        "id": "QzARy6-MHsrg"
      },
      "execution_count": 67,
      "outputs": []
    },
    {
      "cell_type": "code",
      "source": [
        "def get_submission_sample(before_range):\n",
        "    top_items = (before_range\n",
        "                .sort_values(by='boosting_forecast', ascending=False)\n",
        "                .groupby('user_id')\n",
        "                .head(10))\n",
        "\n",
        "    # Теперь создаем новый датафрейм с user_id и строкой из item_id\n",
        "    result = (top_items\n",
        "            .groupby('user_id')['item_id']\n",
        "            .apply(lambda x: ' '.join(x.astype(str)))\n",
        "            .reset_index())\n",
        "\n",
        "    # Переименуем столбцы для ясности\n",
        "    result.columns = ['user_id', 'item_id']\n",
        "\n",
        "    # Теперь result содержит user_id и соответствующие топ-10 item_id\n",
        "    return result"
      ],
      "metadata": {
        "id": "jEJdxHLYH0Pa"
      },
      "execution_count": 68,
      "outputs": []
    },
    {
      "cell_type": "code",
      "source": [
        "val_to_inference = val_to_inference[['user_id', 'item_id', 'boosting_forecast']]"
      ],
      "metadata": {
        "id": "tXJypvZMIGvu"
      },
      "execution_count": 69,
      "outputs": []
    },
    {
      "cell_type": "code",
      "source": [
        "res = get_submission_sample(val_to_inference)"
      ],
      "metadata": {
        "id": "A0Ie11hxIMS3"
      },
      "execution_count": 70,
      "outputs": []
    },
    {
      "cell_type": "code",
      "source": [
        "res.to_csv('submission_sample_new.csv', sep = ',', index = False)"
      ],
      "metadata": {
        "id": "-JI1Uz_gIQtD"
      },
      "execution_count": 72,
      "outputs": []
    }
  ]
}