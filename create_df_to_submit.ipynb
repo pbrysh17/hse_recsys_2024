{
 "cells": [
  {
   "cell_type": "code",
   "execution_count": null,
   "metadata": {},
   "outputs": [],
   "source": [
    "import pandas as pd\n",
    "from sklearn.metrics.pairwise import cosine_similarity\n",
    "from sklearn.preprocessing import StandardScaler\n",
    "from sklearn.model_selection import train_test_split\n",
    "from collections import Counter"
   ]
  },
  {
   "cell_type": "code",
   "execution_count": null,
   "metadata": {},
   "outputs": [],
   "source": [
    "data = pd.read_csv(r\"C:\\Users\\asus\\Desktop\\RecSys\\total_features.csv\")"
   ]
  },
  {
   "cell_type": "code",
   "execution_count": null,
   "metadata": {},
   "outputs": [],
   "source": [
    "data = data.sort_values(by='timestamp')"
   ]
  },
  {
   "cell_type": "code",
   "execution_count": null,
   "metadata": {},
   "outputs": [],
   "source": [
    "def hybrid_filtration(interaction_matrix_scaled, user_similarity_df, item_similarity_df,  client, num_recommendations):\n",
    "    interacted_items = interaction_matrix_scaled.loc[client][interaction_matrix_scaled.loc[client] > 0].index.tolist()\n",
    "    # Функция для получения рекомендаций на основе User-based CF\n",
    "    def get_user_based_recommendations(user_id, num_recommendations=num_recommendations):\n",
    "        similar_users = user_similarity_df[user_id].sort_values(ascending=False).index[1:num_recommendations + 1]\n",
    "        recommended_items = interaction_matrix_scaled.loc[similar_users].sum().sort_values(ascending=False).index[:num_recommendations]\n",
    "        return recommended_items\n",
    "\n",
    "    # Функция для получения рекомендаций на основе Item-based CF\n",
    "    def get_item_based_recommendations(item_id, num_recommendations=num_recommendations*3):\n",
    "        similar_items = item_similarity_df[item_id].sort_values(ascending=False).index[1:num_recommendations + 1]\n",
    "        return similar_items\n",
    "\n",
    "    def get_all_item_recomendations(user_id, num_recommendations=num_recommendations):\n",
    "        item_based_recommendations = []\n",
    "        for item_id in interacted_items:\n",
    "            item_based_recommendations.extend(get_item_based_recommendations(item_id, num_recommendations * 3))\n",
    "        filtered_based_recommendations = [item for item in item_based_recommendations if item not in interacted_items]\n",
    "        recommendation_counts = Counter(filtered_based_recommendations)\n",
    "        # Получаем топ num_recommendations\n",
    "        top_recommendations = recommendation_counts.most_common(num_recommendations)\n",
    "        # Возвращаем только предметы\n",
    "        return [item for item, count in top_recommendations]\n",
    "\n",
    "\n",
    "    # Гибридная рекомендация\n",
    "    def hybrid_recommendation(user_id, num_recommendations=num_recommendations):\n",
    "        user_based_recommendations = get_user_based_recommendations(user_id, num_recommendations)\n",
    "        user_filtered_based_recommendations = [item for item in user_based_recommendations if item not in interacted_items]\n",
    "        item_based_recommendations = get_all_item_recomendations(user_id, num_recommendations)\n",
    "        # Объединение рекомендаций\n",
    "        # print(user_based_recommendations)\n",
    "        # print(item_based_recommendations)\n",
    "        combined_recommendations = set(user_based_recommendations).union(set(item_based_recommendations))\n",
    "        return tuple([user_filtered_based_recommendations, item_based_recommendations])\n",
    "\n",
    "    # Пример использования\n",
    "    return  hybrid_recommendation(client)\n"
   ]
  },
  {
   "cell_type": "code",
   "execution_count": null,
   "metadata": {},
   "outputs": [],
   "source": [
    "from tqdm import tqdm\n",
    "def get_filter_recs(data):\n",
    "    \n",
    "    # Создание матрицы взаимодействий\n",
    "    interaction_matrix = data.pivot(index='user_id', columns='item_id', values='timestamp').fillna(0)\n",
    "\n",
    "    # Нормализация матрицы взаимодействий\n",
    "    # scaler = StandardScaler()\n",
    "    # interaction_matrix_scaled = scaler.fit_transform(interaction_matrix)\n",
    "\n",
    "    # Коллаборативная фильтрация (User-based)\n",
    "    user_similarity = cosine_similarity(interaction_matrix)\n",
    "    user_similarity_df = pd.DataFrame(user_similarity, index=interaction_matrix.index, columns=interaction_matrix.index)\n",
    "\n",
    "    # Коллаборативная фильтрация (Item-based)\n",
    "    item_similarity = cosine_similarity(interaction_matrix.T)\n",
    "    item_similarity_df = pd.DataFrame(item_similarity, index=interaction_matrix.columns, columns=interaction_matrix.columns)\n",
    "    recommendation_dict ={}\n",
    "    for user in tqdm(data.user_id.unique()):\n",
    "        recommendation_dict[user] = hybrid_filtration(interaction_matrix, user_similarity_df, item_similarity_df,  user, num_recommendations = 50 )\n",
    "    return recommendation_dict\n",
    "    "
   ]
  },
  {
   "cell_type": "markdown",
   "metadata": {},
   "source": [
    "Выполняем то же самое, но теперь рекомендации коллаборативной фильтрацией выполняются с помощью матрицы взаимодействий на всём датасете"
   ]
  },
  {
   "cell_type": "code",
   "execution_count": null,
   "metadata": {},
   "outputs": [],
   "source": [
    "recommendation_dict = get_filter_recs(data)"
   ]
  },
  {
   "cell_type": "code",
   "execution_count": null,
   "metadata": {},
   "outputs": [],
   "source": [
    "import joblib\n",
    "joblib.dump(recommendation_dict, 'dict_to_inference.joblib')"
   ]
  },
  {
   "cell_type": "markdown",
   "metadata": {},
   "source": [
    "То же самое, но теперь выгоняем все пары взаимодействий котрые были на всём датасете"
   ]
  },
  {
   "cell_type": "code",
   "execution_count": null,
   "metadata": {},
   "outputs": [],
   "source": [
    "unique_users = data['user_id'].unique()\n",
    "unique_items = data['item_id'].unique()\n",
    "\n",
    "# Создаем все возможные пары user_id и item_id\n",
    "all_pairs = pd.MultiIndex.from_product([unique_users, unique_items], names=['user_id', 'item_id']).to_frame(index=False)\n",
    "\n",
    "# Находим пары, которые есть в test\n",
    "train_pairs = data[['user_id', 'item_id']]\n",
    "\n",
    "# Удаляем пары, которые есть в test из all_pairs\n",
    "val = all_pairs.merge(train_pairs, on=['user_id', 'item_id'], how='left', indicator=True)\n",
    "val = val[val['_merge'] == 'left_only'].drop(columns=['_merge'])"
   ]
  },
  {
   "cell_type": "code",
   "execution_count": null,
   "metadata": {},
   "outputs": [],
   "source": [
    "def add_recommendation_columns(data, recommendation_dict):\n",
    "    \"\"\"Add columns indicating if there are recommendations for each algorithm.\"\"\"\n",
    "    recommended_algo1 = []\n",
    "    recommended_algo2 = []\n",
    "    for index, row in tqdm(data.iterrows()):\n",
    "        user = row['user_id']\n",
    "        item = row['item_id']\n",
    "        if user in recommendation_dict.keys():\n",
    "            if item in recommendation_dict[user][0]:\n",
    "                recommended_algo1.append(1)\n",
    "            else:\n",
    "                recommended_algo1.append(0)\n",
    "            if item in recommendation_dict[user][1]:\n",
    "                recommended_algo2.append(1)\n",
    "            else:\n",
    "                recommended_algo2.append(0)\n",
    "        else:\n",
    "            recommended_algo1.append(0)\n",
    "            recommended_algo2.append(0)\n",
    "    \n",
    "    return recommended_algo1, recommended_algo2"
   ]
  },
  {
   "cell_type": "code",
   "execution_count": null,
   "metadata": {},
   "outputs": [],
   "source": [
    "val['recommended_algo1'], val['recommended_algo2'] = add_recommendation_columns(val, recommendation_dict)"
   ]
  },
  {
   "cell_type": "code",
   "execution_count": null,
   "metadata": {},
   "outputs": [],
   "source": [
    "client_features = data.groupby(by = 'user_id')['age_group', 'user_rating_count', 'user_genre0_share', 'user_genre1_share',\n",
    "    'user_genre2_share', 'user_genre3_share', 'user_genre4_share',\n",
    "    'user_genre5_share', 'user_genre6_share', 'user_genre7_share',\n",
    "    'user_genre8_share', 'user_genre9_share', 'user_genre10_share',\n",
    "    'user_genre11_share', 'user_genre12_share', 'user_genre13_share',\n",
    "    'user_genre14_share', 'user_genre15_share', 'user_genre16_share',\n",
    "    'user_genre17_share', 'user_timestamp_q0', 'user_timestamp_q10',\n",
    "    'user_timestamp_q25', 'user_timestamp_q33', 'user_timestamp_q50',\n",
    "    'user_timestamp_q67', 'user_timestamp_q75', 'user_timestamp_q90',\n",
    "    'user_timestamp_q100', 'user_timestamp_range', 'user_timestamp_iqr',\n",
    "    'gender', 'age'].mean().reset_index()\n",
    "\n",
    "item_features = data.groupby(by = 'item_id')['female_ratio', 'male_ratio',\n",
    "    'young_ratio', 'adult_ratio', 'senior_ratio',\n",
    "    'female_ratio_genre', 'male_ratio_genre', 'young_ratio_genre',\n",
    "    'adult_ratio_genre', 'senior_ratio_genre', 'item_rating_count',\n",
    "    'avg_rating_time_x', 'rating_time_range_x', \n",
    "    'genre_0', 'genre_1', 'genre_2', 'genre_3', 'genre_4', 'genre_5',\n",
    "    'genre_6', 'genre_7', 'genre_8', 'genre_9', 'genre_10', 'genre_11',\n",
    "    'genre_12', 'genre_13', 'genre_14', 'genre_15', 'genre_16', 'genre_17'].mean().reset_index()"
   ]
  },
  {
   "cell_type": "code",
   "execution_count": null,
   "metadata": {},
   "outputs": [],
   "source": [
    "val_with_client_features = val.merge(client_features, on='user_id', how='left')\n",
    "\n",
    "# Выполняем left join с item_features по item_id\n",
    "val_final = val_with_client_features.merge(item_features, on='item_id', how='left')"
   ]
  },
  {
   "cell_type": "code",
   "execution_count": null,
   "metadata": {},
   "outputs": [],
   "source": [
    "val_final['boosting_forecast'] = model.predict(before_range)"
   ]
  },
  {
   "cell_type": "code",
   "execution_count": null,
   "metadata": {},
   "outputs": [],
   "source": [
    "def get_submission_sample(before_range):\n",
    "    top_items = (before_range\n",
    "                .sort_values(by='boosting_forecast', ascending=False)\n",
    "                .groupby('user_id')\n",
    "                .head(10))\n",
    "\n",
    "    # Теперь создаем новый датафрейм с user_id и строкой из item_id\n",
    "    result = (top_items\n",
    "            .groupby('user_id')['item_id']\n",
    "            .apply(lambda x: ' '.join(x.astype(str)))\n",
    "            .reset_index())\n",
    "\n",
    "    # Переименуем столбцы для ясности\n",
    "    result.columns = ['user_id', 'item_id']\n",
    "\n",
    "    # Теперь result содержит user_id и соответствующие топ-10 item_id\n",
    "    return result"
   ]
  },
  {
   "cell_type": "code",
   "execution_count": null,
   "metadata": {},
   "outputs": [],
   "source": [
    "res = get_submission_sample(val_final)"
   ]
  },
  {
   "cell_type": "code",
   "execution_count": null,
   "metadata": {},
   "outputs": [],
   "source": [
    "res.to_csv('submission_sample.csv', delimiter = ',')"
   ]
  }
 ],
 "metadata": {
  "kernelspec": {
   "display_name": "base",
   "language": "python",
   "name": "python3"
  },
  "language_info": {
   "name": "python",
   "version": "3.11.4"
  }
 },
 "nbformat": 4,
 "nbformat_minor": 2
}
